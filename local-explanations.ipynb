{
 "cells": [
  {
   "cell_type": "code",
   "execution_count": null,
   "metadata": {},
   "outputs": [],
   "source": [
    "library(reticulate)\n",
    "library(plyr)\n",
    "library(tidyr)\n",
    "library(dplyr)\n",
    "library(DALEX)\n",
    "library(ggplot2)"
   ]
  },
  {
   "cell_type": "code",
   "execution_count": null,
   "metadata": {},
   "outputs": [],
   "source": [
    "use_condaenv('analiza_dyfuzji', required = TRUE)\n",
    "source_python('utils.py')\n",
    "os <- import('os')"
   ]
  },
  {
   "cell_type": "code",
   "execution_count": null,
   "metadata": {},
   "outputs": [],
   "source": [
    "model <- load_model('Models/model_hanna_2d.sav')"
   ]
  },
  {
   "cell_type": "code",
   "execution_count": null,
   "metadata": {},
   "outputs": [],
   "source": [
    "data <- load_data('Data/characteristics/characteristics_h.csv', 1/6)"
   ]
  },
  {
   "cell_type": "code",
   "execution_count": null,
   "metadata": {},
   "outputs": [],
   "source": [
    "class_vector <- unlist(CLASS_MAPPING, use.names = FALSE)"
   ]
  },
  {
   "cell_type": "code",
   "execution_count": null,
   "metadata": {},
   "outputs": [],
   "source": [
    "x_train <- data[[1]]\n",
    "x_test <- data[[2]]\n",
    "y_train <- data[[3]]\n",
    "y_test <- data[[4]]"
   ]
  },
  {
   "cell_type": "markdown",
   "metadata": {},
   "source": [
    "### Create explainer"
   ]
  },
  {
   "cell_type": "code",
   "execution_count": null,
   "metadata": {
    "scrolled": true
   },
   "outputs": [],
   "source": [
    "explainer <- explain(model,\n",
    "       data=x_train,\n",
    "       y=y_train,\n",
    "       label='Model',\n",
    "       predict_function=custom_predict,\n",
    "       residual_function=custom_residual_function)"
   ]
  },
  {
   "cell_type": "code",
   "execution_count": null,
   "metadata": {},
   "outputs": [],
   "source": [
    "create_bd_plot <- function(explainer, x){\n",
    "    bd <- predict_parts(explainer, x, type='break_down', N=500)\n",
    "    bd$label <- mapvalues(bd$label, from=c(unique(bd$label)), to=unlist(CLASS_MAPPING, use.names = FALSE))\n",
    "    bd\n",
    "}\n",
    "\n",
    "save_plot <- function(path, bd, height=20, width=8, max_features=17){\n",
    "    plt <- plot(bd, max_features=max_features)\n",
    "    pdf(path, height=height, width=width)\n",
    "    print(plt)\n",
    "    dev.off()\n",
    "}"
   ]
  },
  {
   "cell_type": "markdown",
   "metadata": {},
   "source": [
    "## Proces:\n",
    "1. Dokonaj predykcji na zbiorze testowym;\n",
    "2. Wybierz obserwacje o danym błędzie;\n",
    "3. Wykonaj funkcję tworzącą bd-plot oraz dodaj wyniki do DF;\n",
    "4. Zapisz wykres.\n",
    "\n",
    "Funkcja podsumowująca:\n",
    "\n",
    "Dla każdego z najczęstszych błędów i każdej cechy:\n",
    "\n",
    "1. Rozkład cechy (na całym zbiorze);\n",
    "2. Punktami zaznacz wartości cech, dla których występowały błędy, kolorem zaznacz wartości break-down;\n",
    "3. Sprawdź średnie wartości break-down każdej z cech"
   ]
  },
  {
   "cell_type": "markdown",
   "metadata": {},
   "source": [
    "### Predykcje na zbiorze testowym:"
   ]
  },
  {
   "cell_type": "code",
   "execution_count": null,
   "metadata": {},
   "outputs": [],
   "source": [
    "y_pred <- model$predict(x_test)"
   ]
  },
  {
   "cell_type": "code",
   "execution_count": null,
   "metadata": {},
   "outputs": [],
   "source": [
    "n_cols <- ncol(x_test)\n",
    "df_predictions <- data.frame(y_real=y_test, y_pred=y_pred)\n",
    "x_test_bd <- cbind(x_test, df_predictions)"
   ]
  },
  {
   "cell_type": "code",
   "execution_count": null,
   "metadata": {},
   "outputs": [],
   "source": [
    "# Real vs Pred.\n",
    "common_mistakes <- list(attm_sbm=c(0, 4),\n",
    "                        attm_ctrw=c(0, 1),\n",
    "                        fbm_sbm=c(2, 4))"
   ]
  },
  {
   "cell_type": "markdown",
   "metadata": {},
   "source": [
    "### Wybranie obserwacji, bd-plot"
   ]
  },
  {
   "cell_type": "code",
   "execution_count": null,
   "metadata": {},
   "outputs": [],
   "source": [
    "df <- data.frame()\n",
    "for(el in common_mistakes){\n",
    "    df_sub <- x_test_bd %>% filter(y_real==el[1],\n",
    "                                   y_pred==el[2])\n",
    "    df_sub <- df_sub[, 1:n_cols]\n",
    "    for(row in 1:300){\n",
    "        res <- create_bd_plot(explainer, df_sub[row, ])\n",
    "        save_plot(os$path$join('Explanation',\n",
    "                               'h',\n",
    "                               'local',\n",
    "                               'break_down',\n",
    "                               paste0(class_vector[el[1]+1], '_', class_vector[el[2]+1]),\n",
    "                                      paste0(row, '.pdf')),\n",
    "                 res)\n",
    "        to_spread <- res[(el[2]*(n_cols+2)+1):((el[2]+1)*(n_cols+2)), c(2, 3, 4)]\n",
    "        to_add <- to_spread %>% pivot_wider(names_from='variable_name', values_from=c('contribution','variable_value'))\n",
    "        to_add[, 'predicted_class'] <- el[2]\n",
    "        to_add[, 'real_class'] <- el[1]\n",
    "        df <- rbind(df, to_add)\n",
    "        \n",
    "    }\n",
    "}"
   ]
  },
  {
   "cell_type": "code",
   "execution_count": null,
   "metadata": {},
   "outputs": [],
   "source": [
    "write.csv(df, os$path$join('Data', 'break-down-values.csv'))"
   ]
  }
 ],
 "metadata": {
  "kernelspec": {
   "display_name": "R",
   "language": "R",
   "name": "ir"
  },
  "language_info": {
   "codemirror_mode": "r",
   "file_extension": ".r",
   "mimetype": "text/x-r-source",
   "name": "R",
   "pygments_lexer": "r",
   "version": "4.0.5"
  }
 },
 "nbformat": 4,
 "nbformat_minor": 4
}
